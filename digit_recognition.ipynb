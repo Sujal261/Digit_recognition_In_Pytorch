{
  "nbformat": 4,
  "nbformat_minor": 0,
  "metadata": {
    "colab": {
      "provenance": [],
      "authorship_tag": "ABX9TyNE+53VZIw0lQxFRbP/cVbv",
      "include_colab_link": true
    },
    "kernelspec": {
      "name": "python3",
      "display_name": "Python 3"
    },
    "language_info": {
      "name": "python"
    }
  },
  "cells": [
    {
      "cell_type": "markdown",
      "metadata": {
        "id": "view-in-github",
        "colab_type": "text"
      },
      "source": [
        "<a href=\"https://colab.research.google.com/github/Sujal261/Digit_recognition_In_Pytorch/blob/main/digit_recognition.ipynb\" target=\"_parent\"><img src=\"https://colab.research.google.com/assets/colab-badge.svg\" alt=\"Open In Colab\"/></a>"
      ]
    },
    {
      "cell_type": "code",
      "execution_count": null,
      "metadata": {
        "id": "CgAwRVDic7QQ"
      },
      "outputs": [],
      "source": [
        "import torch\n",
        "from torch import nn\n",
        "import torchvision\n",
        "from torchvision import datasets\n",
        "from torchvision import transforms\n",
        "from torchvision.transforms import ToTensor\n",
        "import matplotlib.pyplot as plt\n"
      ]
    },
    {
      "cell_type": "code",
      "source": [
        "from torchvision import datasets\n",
        "train_data = datasets.MNIST(\n",
        "    root=\"data\",\n",
        "    train = True ,\n",
        "    download = True ,\n",
        "    transform = ToTensor(),\n",
        "    target_transform = None\n",
        ")\n",
        "test_data= datasets.MNIST(\n",
        "    root=\"data\",\n",
        "    train = False,\n",
        "    download = True,\n",
        "    transform = ToTensor(),\n",
        "    target_transform=None\n",
        ")"
      ],
      "metadata": {
        "id": "FOsady6MjDCo"
      },
      "execution_count": null,
      "outputs": []
    },
    {
      "cell_type": "code",
      "source": [
        "len(train_data), len(test_data)"
      ],
      "metadata": {
        "colab": {
          "base_uri": "https://localhost:8080/"
        },
        "id": "i4X11fVQkAGw",
        "outputId": "25900c6e-e3cb-444d-c73f-7eb958698a61"
      },
      "execution_count": null,
      "outputs": [
        {
          "output_type": "execute_result",
          "data": {
            "text/plain": [
              "(60000, 10000)"
            ]
          },
          "metadata": {},
          "execution_count": 101
        }
      ]
    },
    {
      "cell_type": "code",
      "source": [
        "image, label = train_data[0]\n",
        "image, label"
      ],
      "metadata": {
        "colab": {
          "base_uri": "https://localhost:8080/"
        },
        "id": "CuIO1DtpmREw",
        "outputId": "091069b8-cbf1-46ec-cb96-9e4c3358e003"
      },
      "execution_count": null,
      "outputs": [
        {
          "output_type": "execute_result",
          "data": {
            "text/plain": [
              "(tensor([[[0.0000, 0.0000, 0.0000, 0.0000, 0.0000, 0.0000, 0.0000, 0.0000,\n",
              "           0.0000, 0.0000, 0.0000, 0.0000, 0.0000, 0.0000, 0.0000, 0.0000,\n",
              "           0.0000, 0.0000, 0.0000, 0.0000, 0.0000, 0.0000, 0.0000, 0.0000,\n",
              "           0.0000, 0.0000, 0.0000, 0.0000],\n",
              "          [0.0000, 0.0000, 0.0000, 0.0000, 0.0000, 0.0000, 0.0000, 0.0000,\n",
              "           0.0000, 0.0000, 0.0000, 0.0000, 0.0000, 0.0000, 0.0000, 0.0000,\n",
              "           0.0000, 0.0000, 0.0000, 0.0000, 0.0000, 0.0000, 0.0000, 0.0000,\n",
              "           0.0000, 0.0000, 0.0000, 0.0000],\n",
              "          [0.0000, 0.0000, 0.0000, 0.0000, 0.0000, 0.0000, 0.0000, 0.0000,\n",
              "           0.0000, 0.0000, 0.0000, 0.0000, 0.0000, 0.0000, 0.0000, 0.0000,\n",
              "           0.0000, 0.0000, 0.0000, 0.0000, 0.0000, 0.0000, 0.0000, 0.0000,\n",
              "           0.0000, 0.0000, 0.0000, 0.0000],\n",
              "          [0.0000, 0.0000, 0.0000, 0.0000, 0.0000, 0.0000, 0.0000, 0.0000,\n",
              "           0.0000, 0.0000, 0.0000, 0.0000, 0.0000, 0.0000, 0.0000, 0.0000,\n",
              "           0.0000, 0.0000, 0.0000, 0.0000, 0.0000, 0.0000, 0.0000, 0.0000,\n",
              "           0.0000, 0.0000, 0.0000, 0.0000],\n",
              "          [0.0000, 0.0000, 0.0000, 0.0000, 0.0000, 0.0000, 0.0000, 0.0000,\n",
              "           0.0000, 0.0000, 0.0000, 0.0000, 0.0000, 0.0000, 0.0000, 0.0000,\n",
              "           0.0000, 0.0000, 0.0000, 0.0000, 0.0000, 0.0000, 0.0000, 0.0000,\n",
              "           0.0000, 0.0000, 0.0000, 0.0000],\n",
              "          [0.0000, 0.0000, 0.0000, 0.0000, 0.0000, 0.0000, 0.0000, 0.0000,\n",
              "           0.0000, 0.0000, 0.0000, 0.0000, 0.0118, 0.0706, 0.0706, 0.0706,\n",
              "           0.4941, 0.5333, 0.6863, 0.1020, 0.6510, 1.0000, 0.9686, 0.4980,\n",
              "           0.0000, 0.0000, 0.0000, 0.0000],\n",
              "          [0.0000, 0.0000, 0.0000, 0.0000, 0.0000, 0.0000, 0.0000, 0.0000,\n",
              "           0.1176, 0.1412, 0.3686, 0.6039, 0.6667, 0.9922, 0.9922, 0.9922,\n",
              "           0.9922, 0.9922, 0.8824, 0.6745, 0.9922, 0.9490, 0.7647, 0.2510,\n",
              "           0.0000, 0.0000, 0.0000, 0.0000],\n",
              "          [0.0000, 0.0000, 0.0000, 0.0000, 0.0000, 0.0000, 0.0000, 0.1922,\n",
              "           0.9333, 0.9922, 0.9922, 0.9922, 0.9922, 0.9922, 0.9922, 0.9922,\n",
              "           0.9922, 0.9843, 0.3647, 0.3216, 0.3216, 0.2196, 0.1529, 0.0000,\n",
              "           0.0000, 0.0000, 0.0000, 0.0000],\n",
              "          [0.0000, 0.0000, 0.0000, 0.0000, 0.0000, 0.0000, 0.0000, 0.0706,\n",
              "           0.8588, 0.9922, 0.9922, 0.9922, 0.9922, 0.9922, 0.7765, 0.7137,\n",
              "           0.9686, 0.9451, 0.0000, 0.0000, 0.0000, 0.0000, 0.0000, 0.0000,\n",
              "           0.0000, 0.0000, 0.0000, 0.0000],\n",
              "          [0.0000, 0.0000, 0.0000, 0.0000, 0.0000, 0.0000, 0.0000, 0.0000,\n",
              "           0.3137, 0.6118, 0.4196, 0.9922, 0.9922, 0.8039, 0.0431, 0.0000,\n",
              "           0.1686, 0.6039, 0.0000, 0.0000, 0.0000, 0.0000, 0.0000, 0.0000,\n",
              "           0.0000, 0.0000, 0.0000, 0.0000],\n",
              "          [0.0000, 0.0000, 0.0000, 0.0000, 0.0000, 0.0000, 0.0000, 0.0000,\n",
              "           0.0000, 0.0549, 0.0039, 0.6039, 0.9922, 0.3529, 0.0000, 0.0000,\n",
              "           0.0000, 0.0000, 0.0000, 0.0000, 0.0000, 0.0000, 0.0000, 0.0000,\n",
              "           0.0000, 0.0000, 0.0000, 0.0000],\n",
              "          [0.0000, 0.0000, 0.0000, 0.0000, 0.0000, 0.0000, 0.0000, 0.0000,\n",
              "           0.0000, 0.0000, 0.0000, 0.5451, 0.9922, 0.7451, 0.0078, 0.0000,\n",
              "           0.0000, 0.0000, 0.0000, 0.0000, 0.0000, 0.0000, 0.0000, 0.0000,\n",
              "           0.0000, 0.0000, 0.0000, 0.0000],\n",
              "          [0.0000, 0.0000, 0.0000, 0.0000, 0.0000, 0.0000, 0.0000, 0.0000,\n",
              "           0.0000, 0.0000, 0.0000, 0.0431, 0.7451, 0.9922, 0.2745, 0.0000,\n",
              "           0.0000, 0.0000, 0.0000, 0.0000, 0.0000, 0.0000, 0.0000, 0.0000,\n",
              "           0.0000, 0.0000, 0.0000, 0.0000],\n",
              "          [0.0000, 0.0000, 0.0000, 0.0000, 0.0000, 0.0000, 0.0000, 0.0000,\n",
              "           0.0000, 0.0000, 0.0000, 0.0000, 0.1373, 0.9451, 0.8824, 0.6275,\n",
              "           0.4235, 0.0039, 0.0000, 0.0000, 0.0000, 0.0000, 0.0000, 0.0000,\n",
              "           0.0000, 0.0000, 0.0000, 0.0000],\n",
              "          [0.0000, 0.0000, 0.0000, 0.0000, 0.0000, 0.0000, 0.0000, 0.0000,\n",
              "           0.0000, 0.0000, 0.0000, 0.0000, 0.0000, 0.3176, 0.9412, 0.9922,\n",
              "           0.9922, 0.4667, 0.0980, 0.0000, 0.0000, 0.0000, 0.0000, 0.0000,\n",
              "           0.0000, 0.0000, 0.0000, 0.0000],\n",
              "          [0.0000, 0.0000, 0.0000, 0.0000, 0.0000, 0.0000, 0.0000, 0.0000,\n",
              "           0.0000, 0.0000, 0.0000, 0.0000, 0.0000, 0.0000, 0.1765, 0.7294,\n",
              "           0.9922, 0.9922, 0.5882, 0.1059, 0.0000, 0.0000, 0.0000, 0.0000,\n",
              "           0.0000, 0.0000, 0.0000, 0.0000],\n",
              "          [0.0000, 0.0000, 0.0000, 0.0000, 0.0000, 0.0000, 0.0000, 0.0000,\n",
              "           0.0000, 0.0000, 0.0000, 0.0000, 0.0000, 0.0000, 0.0000, 0.0627,\n",
              "           0.3647, 0.9882, 0.9922, 0.7333, 0.0000, 0.0000, 0.0000, 0.0000,\n",
              "           0.0000, 0.0000, 0.0000, 0.0000],\n",
              "          [0.0000, 0.0000, 0.0000, 0.0000, 0.0000, 0.0000, 0.0000, 0.0000,\n",
              "           0.0000, 0.0000, 0.0000, 0.0000, 0.0000, 0.0000, 0.0000, 0.0000,\n",
              "           0.0000, 0.9765, 0.9922, 0.9765, 0.2510, 0.0000, 0.0000, 0.0000,\n",
              "           0.0000, 0.0000, 0.0000, 0.0000],\n",
              "          [0.0000, 0.0000, 0.0000, 0.0000, 0.0000, 0.0000, 0.0000, 0.0000,\n",
              "           0.0000, 0.0000, 0.0000, 0.0000, 0.0000, 0.0000, 0.1804, 0.5098,\n",
              "           0.7176, 0.9922, 0.9922, 0.8118, 0.0078, 0.0000, 0.0000, 0.0000,\n",
              "           0.0000, 0.0000, 0.0000, 0.0000],\n",
              "          [0.0000, 0.0000, 0.0000, 0.0000, 0.0000, 0.0000, 0.0000, 0.0000,\n",
              "           0.0000, 0.0000, 0.0000, 0.0000, 0.1529, 0.5804, 0.8980, 0.9922,\n",
              "           0.9922, 0.9922, 0.9804, 0.7137, 0.0000, 0.0000, 0.0000, 0.0000,\n",
              "           0.0000, 0.0000, 0.0000, 0.0000],\n",
              "          [0.0000, 0.0000, 0.0000, 0.0000, 0.0000, 0.0000, 0.0000, 0.0000,\n",
              "           0.0000, 0.0000, 0.0941, 0.4471, 0.8667, 0.9922, 0.9922, 0.9922,\n",
              "           0.9922, 0.7882, 0.3059, 0.0000, 0.0000, 0.0000, 0.0000, 0.0000,\n",
              "           0.0000, 0.0000, 0.0000, 0.0000],\n",
              "          [0.0000, 0.0000, 0.0000, 0.0000, 0.0000, 0.0000, 0.0000, 0.0000,\n",
              "           0.0902, 0.2588, 0.8353, 0.9922, 0.9922, 0.9922, 0.9922, 0.7765,\n",
              "           0.3176, 0.0078, 0.0000, 0.0000, 0.0000, 0.0000, 0.0000, 0.0000,\n",
              "           0.0000, 0.0000, 0.0000, 0.0000],\n",
              "          [0.0000, 0.0000, 0.0000, 0.0000, 0.0000, 0.0000, 0.0706, 0.6706,\n",
              "           0.8588, 0.9922, 0.9922, 0.9922, 0.9922, 0.7647, 0.3137, 0.0353,\n",
              "           0.0000, 0.0000, 0.0000, 0.0000, 0.0000, 0.0000, 0.0000, 0.0000,\n",
              "           0.0000, 0.0000, 0.0000, 0.0000],\n",
              "          [0.0000, 0.0000, 0.0000, 0.0000, 0.2157, 0.6745, 0.8863, 0.9922,\n",
              "           0.9922, 0.9922, 0.9922, 0.9569, 0.5216, 0.0431, 0.0000, 0.0000,\n",
              "           0.0000, 0.0000, 0.0000, 0.0000, 0.0000, 0.0000, 0.0000, 0.0000,\n",
              "           0.0000, 0.0000, 0.0000, 0.0000],\n",
              "          [0.0000, 0.0000, 0.0000, 0.0000, 0.5333, 0.9922, 0.9922, 0.9922,\n",
              "           0.8314, 0.5294, 0.5176, 0.0627, 0.0000, 0.0000, 0.0000, 0.0000,\n",
              "           0.0000, 0.0000, 0.0000, 0.0000, 0.0000, 0.0000, 0.0000, 0.0000,\n",
              "           0.0000, 0.0000, 0.0000, 0.0000],\n",
              "          [0.0000, 0.0000, 0.0000, 0.0000, 0.0000, 0.0000, 0.0000, 0.0000,\n",
              "           0.0000, 0.0000, 0.0000, 0.0000, 0.0000, 0.0000, 0.0000, 0.0000,\n",
              "           0.0000, 0.0000, 0.0000, 0.0000, 0.0000, 0.0000, 0.0000, 0.0000,\n",
              "           0.0000, 0.0000, 0.0000, 0.0000],\n",
              "          [0.0000, 0.0000, 0.0000, 0.0000, 0.0000, 0.0000, 0.0000, 0.0000,\n",
              "           0.0000, 0.0000, 0.0000, 0.0000, 0.0000, 0.0000, 0.0000, 0.0000,\n",
              "           0.0000, 0.0000, 0.0000, 0.0000, 0.0000, 0.0000, 0.0000, 0.0000,\n",
              "           0.0000, 0.0000, 0.0000, 0.0000],\n",
              "          [0.0000, 0.0000, 0.0000, 0.0000, 0.0000, 0.0000, 0.0000, 0.0000,\n",
              "           0.0000, 0.0000, 0.0000, 0.0000, 0.0000, 0.0000, 0.0000, 0.0000,\n",
              "           0.0000, 0.0000, 0.0000, 0.0000, 0.0000, 0.0000, 0.0000, 0.0000,\n",
              "           0.0000, 0.0000, 0.0000, 0.0000]]]),\n",
              " 5)"
            ]
          },
          "metadata": {},
          "execution_count": 102
        }
      ]
    },
    {
      "cell_type": "code",
      "source": [
        "image.shape"
      ],
      "metadata": {
        "colab": {
          "base_uri": "https://localhost:8080/"
        },
        "id": "2B4YBqJJQLAJ",
        "outputId": "9e9a0d70-4255-4909-aef2-a8914fab0f37"
      },
      "execution_count": null,
      "outputs": [
        {
          "output_type": "execute_result",
          "data": {
            "text/plain": [
              "torch.Size([1, 28, 28])"
            ]
          },
          "metadata": {},
          "execution_count": 5
        }
      ]
    },
    {
      "cell_type": "code",
      "source": [
        "classes = train_data.classes\n",
        "classes"
      ],
      "metadata": {
        "colab": {
          "base_uri": "https://localhost:8080/"
        },
        "id": "68Pnu_slQV3_",
        "outputId": "809f9150-31bf-41c0-fb3b-479efac6f59a"
      },
      "execution_count": null,
      "outputs": [
        {
          "output_type": "execute_result",
          "data": {
            "text/plain": [
              "['0 - zero',\n",
              " '1 - one',\n",
              " '2 - two',\n",
              " '3 - three',\n",
              " '4 - four',\n",
              " '5 - five',\n",
              " '6 - six',\n",
              " '7 - seven',\n",
              " '8 - eight',\n",
              " '9 - nine']"
            ]
          },
          "metadata": {},
          "execution_count": 103
        }
      ]
    },
    {
      "cell_type": "code",
      "source": [
        "import matplotlib.pyplot as plt\n",
        "image,label = train_data[6]\n",
        "print(f\"Image shape is :{image.shape}\")\n",
        "plt.imshow(image.squeeze(), cmap = \"gray\")\n",
        "plt.title(label)\n",
        "plt.axis(False)"
      ],
      "metadata": {
        "colab": {
          "base_uri": "https://localhost:8080/",
          "height": 483
        },
        "id": "V7YTzzvEQY_q",
        "outputId": "bfca18fa-43c3-4d1f-8c54-7d1becdff07b"
      },
      "execution_count": null,
      "outputs": [
        {
          "output_type": "stream",
          "name": "stdout",
          "text": [
            "Image shape is :torch.Size([1, 28, 28])\n"
          ]
        },
        {
          "output_type": "execute_result",
          "data": {
            "text/plain": [
              "(-0.5, 27.5, 27.5, -0.5)"
            ]
          },
          "metadata": {},
          "execution_count": 104
        },
        {
          "output_type": "display_data",
          "data": {
            "text/plain": [
              "<Figure size 640x480 with 1 Axes>"
            ],
            "image/png": "[encoded data removed]"
          },
          "metadata": {}
        }
      ]
    },
    {
      "cell_type": "code",
      "source": [
        "torch.manual_seed(42)\n",
        "plt.figure(figsize = (9,9))\n",
        "rows, cols = 4,4\n",
        "for i in range(1, rows*cols+1):\n",
        "  random_idx = torch.randint(0, len(train_data), size=[1]).item()\n",
        "  img, label =  train_data[random_idx]\n",
        "  plt.subplot(rows, cols, i)\n",
        "  plt.imshow(img.squeeze(), cmap =\"gray\")\n",
        "  plt.title(label)\n",
        "  plt.axis(False)"
      ],
      "metadata": {
        "colab": {
          "base_uri": "https://localhost:8080/",
          "height": 772
        },
        "id": "kPI2mGxkRbvZ",
        "outputId": "8885f1c2-dfdf-42d2-9f42-83ab2ef777fc"
      },
      "execution_count": null,
      "outputs": [
        {
          "output_type": "display_data",
          "data": {
            "text/plain": [
              "<Figure size 900x900 with 16 Axes>"
            ],
            "image/png": "[encoded data removed]"
          },
          "metadata": {}
        }
      ]
    },
    {
      "cell_type": "code",
      "source": [
        "img.shape\n",
        "img.squeeze().shape"
      ],
      "metadata": {
        "colab": {
          "base_uri": "https://localhost:8080/"
        },
        "id": "V5QdJQDuY4zP",
        "outputId": "ef372613-dfc2-4a17-db10-a8a6784fe2f8"
      },
      "execution_count": null,
      "outputs": [
        {
          "output_type": "execute_result",
          "data": {
            "text/plain": [
              "torch.Size([28, 28])"
            ]
          },
          "metadata": {},
          "execution_count": 9
        }
      ]
    },
    {
      "cell_type": "code",
      "source": [
        "#making batches out of datset to trainthe model\n",
        "from torch.utils.data import DataLoader\n",
        "\n",
        "Batch_size=32\n",
        "\n",
        "train_dataloader = DataLoader(train_data, batch_size = Batch_size, shuffle = True)\n",
        "test_dataloader = DataLoader(test_data, batch_size= Batch_size, shuffle = False)"
      ],
      "metadata": {
        "id": "1L5HDwEtS66A"
      },
      "execution_count": null,
      "outputs": []
    },
    {
      "cell_type": "code",
      "source": [
        "len(train_dataloader), len(test_dataloader)"
      ],
      "metadata": {
        "colab": {
          "base_uri": "https://localhost:8080/"
        },
        "id": "NUjQY5C7Uz2y",
        "outputId": "b5361a09-6a43-4fa7-eb4b-fde09dcde096"
      },
      "execution_count": null,
      "outputs": [
        {
          "output_type": "execute_result",
          "data": {
            "text/plain": [
              "(1875, 313)"
            ]
          },
          "metadata": {},
          "execution_count": 107
        }
      ]
    },
    {
      "cell_type": "code",
      "source": [
        "train_features, train_labels = next(iter(train_dataloader))\n",
        "train_features, train_labels\n"
      ],
      "metadata": {
        "colab": {
          "base_uri": "https://localhost:8080/"
        },
        "id": "LF6xA2SKU2cg",
        "outputId": "89109f79-f61e-46fb-f2dd-a2ca79292c60"
      },
      "execution_count": null,
      "outputs": [
        {
          "output_type": "execute_result",
          "data": {
            "text/plain": [
              "(tensor([[[[0., 0., 0.,  ..., 0., 0., 0.],\n",
              "           [0., 0., 0.,  ..., 0., 0., 0.],\n",
              "           [0., 0., 0.,  ..., 0., 0., 0.],\n",
              "           ...,\n",
              "           [0., 0., 0.,  ..., 0., 0., 0.],\n",
              "           [0., 0., 0.,  ..., 0., 0., 0.],\n",
              "           [0., 0., 0.,  ..., 0., 0., 0.]]],\n",
              " \n",
              " \n",
              "         [[[0., 0., 0.,  ..., 0., 0., 0.],\n",
              "           [0., 0., 0.,  ..., 0., 0., 0.],\n",
              "           [0., 0., 0.,  ..., 0., 0., 0.],\n",
              "           ...,\n",
              "           [0., 0., 0.,  ..., 0., 0., 0.],\n",
              "           [0., 0., 0.,  ..., 0., 0., 0.],\n",
              "           [0., 0., 0.,  ..., 0., 0., 0.]]],\n",
              " \n",
              " \n",
              "         [[[0., 0., 0.,  ..., 0., 0., 0.],\n",
              "           [0., 0., 0.,  ..., 0., 0., 0.],\n",
              "           [0., 0., 0.,  ..., 0., 0., 0.],\n",
              "           ...,\n",
              "           [0., 0., 0.,  ..., 0., 0., 0.],\n",
              "           [0., 0., 0.,  ..., 0., 0., 0.],\n",
              "           [0., 0., 0.,  ..., 0., 0., 0.]]],\n",
              " \n",
              " \n",
              "         ...,\n",
              " \n",
              " \n",
              "         [[[0., 0., 0.,  ..., 0., 0., 0.],\n",
              "           [0., 0., 0.,  ..., 0., 0., 0.],\n",
              "           [0., 0., 0.,  ..., 0., 0., 0.],\n",
              "           ...,\n",
              "           [0., 0., 0.,  ..., 0., 0., 0.],\n",
              "           [0., 0., 0.,  ..., 0., 0., 0.],\n",
              "           [0., 0., 0.,  ..., 0., 0., 0.]]],\n",
              " \n",
              " \n",
              "         [[[0., 0., 0.,  ..., 0., 0., 0.],\n",
              "           [0., 0., 0.,  ..., 0., 0., 0.],\n",
              "           [0., 0., 0.,  ..., 0., 0., 0.],\n",
              "           ...,\n",
              "           [0., 0., 0.,  ..., 0., 0., 0.],\n",
              "           [0., 0., 0.,  ..., 0., 0., 0.],\n",
              "           [0., 0., 0.,  ..., 0., 0., 0.]]],\n",
              " \n",
              " \n",
              "         [[[0., 0., 0.,  ..., 0., 0., 0.],\n",
              "           [0., 0., 0.,  ..., 0., 0., 0.],\n",
              "           [0., 0., 0.,  ..., 0., 0., 0.],\n",
              "           ...,\n",
              "           [0., 0., 0.,  ..., 0., 0., 0.],\n",
              "           [0., 0., 0.,  ..., 0., 0., 0.],\n",
              "           [0., 0., 0.,  ..., 0., 0., 0.]]]]),\n",
              " tensor([1, 1, 2, 4, 9, 7, 9, 1, 9, 4, 7, 4, 7, 7, 1, 5, 6, 4, 1, 4, 1, 0, 4, 7,\n",
              "         5, 4, 4, 2, 5, 8, 6, 9]))"
            ]
          },
          "metadata": {},
          "execution_count": 12
        }
      ]
    },
    {
      "cell_type": "code",
      "source": [
        "torch.manual_seed(42)\n",
        "random_idx=torch.randint(1, len(train_features), size=[1]).item()\n",
        "image, label = train_features[random_idx], train_labels[random_idx]\n",
        "plt.imshow(image.squeeze(), cmap= \"gray\")\n",
        "plt.title(label)\n",
        "plt.axis(False)"
      ],
      "metadata": {
        "colab": {
          "base_uri": "https://localhost:8080/",
          "height": 465
        },
        "id": "Hwse-T0FWmLg",
        "outputId": "bf6ade67-6f4e-41f4-8fe7-5ebea2e7f8d5"
      },
      "execution_count": null,
      "outputs": [
        {
          "output_type": "execute_result",
          "data": {
            "text/plain": [
              "(-0.5, 27.5, 27.5, -0.5)"
            ]
          },
          "metadata": {},
          "execution_count": 108
        },
        {
          "output_type": "display_data",
          "data": {
            "text/plain": [
              "<Figure size 640x480 with 1 Axes>"
            ],
            "image/png": "[encoded data removed]"
          },
          "metadata": {}
        }
      ]
    },
    {
      "cell_type": "code",
      "source": [
        "image.shape, train_features.shape, train_features[0].shape"
      ],
      "metadata": {
        "colab": {
          "base_uri": "https://localhost:8080/"
        },
        "id": "VwJrvNr9aajJ",
        "outputId": "4359a3cb-b72d-4010-f2b6-64aacce8fd0e"
      },
      "execution_count": null,
      "outputs": [
        {
          "output_type": "execute_result",
          "data": {
            "text/plain": [
              "(torch.Size([1, 28, 28]), torch.Size([32, 1, 28, 28]), torch.Size([1, 28, 28]))"
            ]
          },
          "metadata": {},
          "execution_count": 14
        }
      ]
    },
    {
      "cell_type": "code",
      "source": [
        "device =\"cuda\" if torch.cuda.is_available() else \"cpu\"\n",
        "device"
      ],
      "metadata": {
        "colab": {
          "base_uri": "https://localhost:8080/",
          "height": 55
        },
        "id": "9In3E60cRtwS",
        "outputId": "0be57584-d8c3-4971-e3ee-5362053ebc4f"
      },
      "execution_count": null,
      "outputs": [
        {
          "output_type": "execute_result",
          "data": {
            "text/plain": [
              "'cpu'"
            ],
            "application/vnd.google.colaboratory.intrinsic+json": {
              "type": "string"
            }
          },
          "metadata": {},
          "execution_count": 109
        }
      ]
    },
    {
      "cell_type": "code",
      "source": [
        "#Creating a model\n",
        "class MNIST(nn.Module):\n",
        "  def __init__(self,input_shape = int , hidden_units = int , output_shape = int):\n",
        "    super().__init__()\n",
        "    self.layer_stack1= nn.Sequential(\n",
        "        nn.Conv2d(in_channels = input_shape,\n",
        "         out_channels= hidden_units,\n",
        "        kernel_size = 3,\n",
        "        stride = 1,\n",
        "        padding = 1),\n",
        "\n",
        "        nn.ReLU(),\n",
        "        nn.Conv2d(in_channels = hidden_units,\n",
        "                  out_channels= hidden_units,\n",
        "                  kernel_size = 3,\n",
        "                  stride = 1,\n",
        "                  padding = 1),\n",
        "        nn.ReLU(),\n",
        "        nn.MaxPool2d(kernel_size = 2)\n",
        "    )\n",
        "    # self.layer_stack2 = nn.Sequential(\n",
        "    #     nn.Conv2d(in_channels = hidden_units,\n",
        "    #               out_channels = hidden_units,\n",
        "    #               kernel_size = 3,\n",
        "    #               stride = 1,\n",
        "    #               padding = 1),\n",
        "    #     nn.ReLU(),\n",
        "    #     nn.Conv2d(\n",
        "    #         in_channels= hidden_units,\n",
        "    #         out_channels = hidden_units,\n",
        "    #         kernel_size =3 ,\n",
        "    #         stride = 1,\n",
        "    #         padding =1\n",
        "    #     ),\n",
        "    #     nn.ReLU(),\n",
        "    #     nn.MaxPool2d(kernel_size = 2)\n",
        "    # )\n",
        "    self.classifier = nn.Sequential(\n",
        "       nn.Flatten(),\n",
        "       nn.Linear(in_features = 1960,\n",
        "                 out_features = output_shape)\n",
        "    )\n",
        "  def forward(self, x):\n",
        "    x= self.layer_stack1(x)\n",
        "    #print(f\"{x.shape}\")\n",
        "    #x = self.layer_stack2(x)\n",
        "   # print(f\"{x.shape}\")\n",
        "    x = self.classifier(x)\n",
        "    return x\n"
      ],
      "metadata": {
        "id": "10TOIB9Qa1fZ"
      },
      "execution_count": null,
      "outputs": []
    },
    {
      "cell_type": "code",
      "source": [
        "class_names = train_data.classes"
      ],
      "metadata": {
        "id": "EYiCNEE3Rj0t"
      },
      "execution_count": null,
      "outputs": []
    },
    {
      "cell_type": "code",
      "source": [
        "torch.manual_seed(42)\n",
        "model_0= MNIST(input_shape = 1, hidden_units = 10, output_shape = 10).to(device)"
      ],
      "metadata": {
        "id": "KCIRi50zlwRh"
      },
      "execution_count": null,
      "outputs": []
    },
    {
      "cell_type": "code",
      "source": [
        "random_image_tensor=torch.rand(size=(1,28,28)).to(device)\n",
        "random_image_tensor"
      ],
      "metadata": {
        "colab": {
          "base_uri": "https://localhost:8080/"
        },
        "id": "iFyfPcYpR7LI",
        "outputId": "88e69866-63cd-433a-809b-0acdbc5ee864"
      },
      "execution_count": null,
      "outputs": [
        {
          "output_type": "execute_result",
          "data": {
            "text/plain": [
              "tensor([[[9.6179e-01, 1.7197e-01, 2.5640e-03, 6.5146e-01, 7.9572e-02,\n",
              "          3.5752e-01, 7.0743e-01, 6.7821e-01, 5.7363e-01, 7.1982e-01,\n",
              "          2.2045e-01, 3.3928e-01, 3.3653e-01, 1.5835e-03, 2.1454e-01,\n",
              "          5.6624e-01, 6.3252e-01, 2.8259e-01, 8.4723e-01, 2.2625e-01,\n",
              "          5.2750e-01, 9.3187e-01, 8.3081e-01, 9.7220e-01, 6.3907e-01,\n",
              "          1.5456e-01, 3.2959e-01, 3.5653e-01],\n",
              "         [1.3044e-01, 3.1271e-01, 3.1515e-02, 2.6413e-01, 1.3633e-03,\n",
              "          9.8878e-01, 5.7894e-01, 9.7640e-01, 7.8537e-01, 9.9028e-01,\n",
              "          3.5117e-01, 2.6362e-01, 2.8824e-01, 4.2041e-02, 4.7027e-01,\n",
              "          5.7353e-01, 7.8481e-01, 4.0541e-01, 6.6198e-01, 7.1221e-01,\n",
              "          6.0206e-01, 6.2186e-01, 3.1005e-01, 7.7202e-01, 1.4529e-02,\n",
              "          5.5902e-01, 7.6447e-01, 8.1327e-01],\n",
              "         [7.2037e-01, 4.2403e-01, 8.5636e-01, 2.5957e-02, 3.9538e-01,\n",
              "          3.1288e-01, 8.0509e-01, 9.3947e-01, 3.6777e-01, 6.0062e-01,\n",
              "          4.2773e-01, 3.5774e-01, 7.0000e-01, 6.1764e-01, 2.5956e-01,\n",
              "          6.0913e-01, 9.5162e-01, 1.5033e-01, 4.2025e-01, 5.6157e-02,\n",
              "          3.7380e-01, 9.7292e-01, 8.2520e-01, 2.8373e-02, 5.2250e-02,\n",
              "          5.2009e-01, 4.4281e-01, 8.7665e-01],\n",
              "         [3.6214e-01, 8.7921e-01, 2.0429e-01, 4.0890e-01, 4.8929e-01,\n",
              "          2.4265e-01, 5.2122e-01, 3.9226e-01, 2.6276e-01, 1.0650e-01,\n",
              "          4.9919e-01, 9.6532e-01, 6.9408e-01, 1.1758e-01, 2.4743e-01,\n",
              "          8.2842e-01, 3.1363e-01, 4.5367e-01, 2.6490e-01, 7.3840e-01,\n",
              "          1.6185e-01, 2.6079e-02, 1.3260e-01, 6.8552e-02, 5.4807e-01,\n",
              "          5.7752e-01, 3.4174e-01, 7.0724e-01],\n",
              "         [5.4690e-01, 6.2082e-01, 7.6077e-01, 6.0111e-01, 9.9642e-01,\n",
              "          8.6788e-01, 2.1714e-01, 8.7335e-01, 4.4648e-01, 4.7362e-01,\n",
              "          5.4532e-01, 6.2500e-02, 8.2646e-01, 8.2854e-01, 9.8476e-01,\n",
              "          5.9116e-01, 3.6352e-01, 4.2644e-01, 3.3609e-01, 4.7857e-02,\n",
              "          6.6995e-01, 5.7460e-01, 3.4577e-01, 2.0849e-01, 3.8828e-01,\n",
              "          6.3825e-01, 8.7624e-01, 7.0390e-01],\n",
              "         [8.7693e-01, 9.0270e-01, 2.5409e-01, 4.8959e-01, 7.9764e-02,\n",
              "          2.1235e-01, 6.9353e-01, 6.8681e-01, 7.2153e-01, 9.2774e-01,\n",
              "          7.0309e-01, 2.5503e-01, 3.9664e-01, 5.3679e-01, 7.5487e-01,\n",
              "          2.4275e-01, 2.9094e-01, 6.9139e-01, 6.6846e-01, 9.7411e-01,\n",
              "          9.1235e-01, 2.6796e-01, 6.7183e-01, 1.9176e-01, 4.7884e-01,\n",
              "          4.5771e-01, 6.1289e-01, 9.3820e-01],\n",
              "         [1.0882e-01, 9.6016e-01, 8.4879e-01, 2.5804e-01, 3.6500e-01,\n",
              "          3.9030e-01, 8.1352e-01, 3.7164e-01, 6.7579e-01, 3.0194e-01,\n",
              "          9.0370e-01, 4.1971e-01, 9.7801e-01, 1.2778e-01, 3.5071e-01,\n",
              "          8.2316e-01, 6.6629e-01, 2.4683e-01, 9.0572e-02, 1.2251e-01,\n",
              "          8.2209e-02, 2.2368e-01, 1.9704e-01, 3.5569e-01, 9.3323e-01,\n",
              "          3.6729e-01, 1.9095e-01, 7.4445e-01],\n",
              "         [2.0572e-01, 2.4976e-01, 4.1738e-01, 4.3846e-01, 1.9166e-01,\n",
              "          1.0235e-01, 1.1934e-02, 2.8793e-01, 7.5333e-01, 5.4011e-01,\n",
              "          8.9857e-01, 5.8672e-01, 1.2489e-01, 5.4710e-01, 3.7189e-01,\n",
              "          7.8311e-01, 6.3604e-01, 9.9497e-01, 5.1706e-02, 2.6203e-01,\n",
              "          7.5604e-02, 5.4449e-01, 1.8128e-01, 2.9238e-01, 9.7729e-01,\n",
              "          3.3248e-01, 7.4600e-01, 8.2147e-01],\n",
              "         [8.6262e-01, 9.0901e-01, 8.0843e-01, 5.4955e-01, 9.2187e-01,\n",
              "          9.8387e-01, 1.5509e-01, 6.0441e-01, 8.4402e-01, 1.6197e-01,\n",
              "          6.9623e-01, 8.1219e-01, 5.1560e-01, 3.5545e-01, 4.5865e-01,\n",
              "          9.3494e-01, 1.0411e-01, 6.9837e-01, 2.2935e-01, 8.3742e-01,\n",
              "          2.9450e-01, 6.1053e-01, 8.1596e-01, 4.3504e-01, 4.1999e-01,\n",
              "          9.5137e-01, 9.7643e-01, 7.6583e-01],\n",
              "         [5.1098e-01, 4.9594e-01, 1.8814e-01, 8.3969e-01, 7.2222e-01,\n",
              "          8.9873e-01, 1.7358e-01, 6.2400e-01, 5.9777e-01, 3.5111e-01,\n",
              "          4.4783e-01, 6.0016e-01, 3.6390e-01, 9.7371e-01, 5.1291e-02,\n",
              "          4.2818e-01, 2.6399e-01, 8.8000e-01, 3.1993e-01, 3.8507e-01,\n",
              "          9.3011e-01, 6.3138e-02, 3.3298e-01, 9.2959e-01, 8.5131e-01,\n",
              "          3.5760e-01, 4.0592e-01, 2.6171e-01],\n",
              "         [5.9895e-01, 6.4658e-01, 8.3777e-01, 7.1948e-01, 7.5220e-01,\n",
              "          4.2037e-01, 1.4266e-01, 7.7608e-01, 4.9132e-01, 1.7283e-01,\n",
              "          5.4474e-01, 9.9472e-01, 4.5784e-01, 8.2324e-02, 8.0197e-01,\n",
              "          8.7180e-01, 1.8048e-01, 6.2682e-02, 1.4225e-01, 7.0558e-01,\n",
              "          2.9480e-01, 8.8446e-03, 4.6412e-01, 2.4596e-01, 3.5199e-01,\n",
              "          3.0266e-01, 3.3222e-01, 1.7445e-01],\n",
              "         [3.9847e-01, 1.8489e-01, 4.3393e-01, 1.8848e-01, 5.3278e-01,\n",
              "          8.5454e-01, 2.9643e-01, 4.3426e-01, 4.1497e-01, 3.3450e-01,\n",
              "          1.5364e-01, 6.2664e-01, 4.5755e-01, 5.2573e-01, 3.7147e-01,\n",
              "          1.8166e-01, 3.1761e-01, 7.5709e-01, 8.4615e-01, 3.4036e-01,\n",
              "          7.6213e-01, 2.1321e-01, 4.7165e-01, 4.8666e-02, 4.3012e-01,\n",
              "          6.4571e-01, 8.0482e-01, 6.7497e-01],\n",
              "         [7.3589e-01, 3.9273e-01, 9.9179e-01, 8.5250e-02, 3.8734e-01,\n",
              "          4.2154e-01, 8.3596e-01, 5.9750e-01, 9.8826e-01, 1.6272e-01,\n",
              "          6.6612e-01, 7.9594e-02, 6.5854e-01, 2.7062e-01, 2.8069e-01,\n",
              "          5.5492e-01, 5.4969e-01, 9.9285e-01, 9.0080e-01, 5.2577e-01,\n",
              "          6.7069e-01, 6.0291e-01, 3.9274e-01, 1.3851e-01, 9.8345e-02,\n",
              "          5.4822e-01, 3.0545e-01, 9.5742e-01],\n",
              "         [2.8068e-01, 6.3596e-01, 2.5844e-01, 9.9799e-01, 7.1455e-01,\n",
              "          7.7463e-01, 6.3567e-01, 4.2758e-01, 3.2924e-01, 2.7659e-01,\n",
              "          6.9804e-02, 4.1621e-01, 2.9867e-01, 9.5436e-01, 9.7663e-01,\n",
              "          1.7044e-01, 5.3699e-01, 9.6485e-02, 7.4492e-01, 8.7780e-01,\n",
              "          2.1592e-01, 1.4682e-01, 4.1049e-01, 9.0420e-01, 8.5285e-01,\n",
              "          2.3867e-01, 5.2360e-01, 1.1813e-01],\n",
              "         [9.6751e-01, 7.1844e-01, 2.9795e-01, 7.2790e-01, 5.3605e-01,\n",
              "          2.0258e-01, 1.6735e-02, 8.0695e-01, 1.2636e-01, 8.3055e-01,\n",
              "          3.5068e-01, 7.8590e-01, 7.0627e-01, 8.1100e-01, 2.7778e-01,\n",
              "          7.4639e-01, 6.1836e-01, 5.0862e-01, 4.9619e-01, 5.0815e-01,\n",
              "          7.9138e-01, 7.9749e-01, 3.1520e-01, 4.8930e-01, 3.8787e-01,\n",
              "          3.1999e-01, 7.1977e-01, 9.6210e-01],\n",
              "         [7.5261e-01, 3.7438e-01, 7.9917e-01, 9.8438e-01, 6.3126e-01,\n",
              "          9.4111e-01, 6.6145e-01, 3.9991e-01, 6.6735e-01, 6.2030e-01,\n",
              "          6.4688e-01, 3.7751e-01, 1.3378e-01, 3.7426e-02, 1.7774e-01,\n",
              "          8.0222e-01, 3.8068e-01, 9.4667e-02, 8.8048e-01, 4.0713e-02,\n",
              "          5.8947e-01, 9.3131e-01, 2.5130e-01, 4.9105e-01, 9.9644e-01,\n",
              "          9.2767e-01, 8.5841e-01, 4.1020e-01],\n",
              "         [7.9536e-01, 7.0091e-01, 5.2719e-01, 9.6137e-01, 6.4204e-01,\n",
              "          8.1262e-01, 1.2155e-01, 6.5058e-01, 3.9455e-02, 5.8355e-01,\n",
              "          6.3442e-01, 7.9659e-01, 7.6594e-01, 2.7720e-01, 7.9731e-01,\n",
              "          1.0671e-03, 9.1600e-01, 7.4021e-01, 4.2325e-01, 6.4689e-01,\n",
              "          7.7554e-01, 9.9018e-02, 8.2451e-01, 6.4925e-01, 9.8663e-01,\n",
              "          5.2203e-01, 5.4993e-01, 6.1498e-01],\n",
              "         [9.0440e-01, 8.3516e-02, 7.7646e-01, 7.8777e-01, 4.5969e-01,\n",
              "          1.6006e-01, 8.8607e-01, 8.0425e-01, 3.8414e-01, 5.8689e-01,\n",
              "          3.4688e-01, 2.7469e-01, 9.9667e-01, 7.0125e-01, 5.3183e-01,\n",
              "          8.1784e-01, 8.3460e-01, 7.6751e-01, 7.2258e-01, 1.2602e-01,\n",
              "          2.9973e-01, 9.1560e-01, 6.5215e-01, 6.3737e-01, 1.7219e-01,\n",
              "          2.6095e-01, 3.1230e-01, 7.3812e-01],\n",
              "         [2.9902e-01, 8.8223e-01, 1.4525e-01, 4.1412e-01, 9.2446e-01,\n",
              "          2.9016e-01, 5.0897e-01, 3.5309e-01, 6.7648e-01, 2.4772e-01,\n",
              "          1.2220e-01, 3.1181e-01, 7.0165e-01, 3.7035e-01, 1.1656e-01,\n",
              "          3.9566e-01, 2.8183e-01, 9.1568e-01, 4.2732e-01, 7.2188e-01,\n",
              "          9.8085e-01, 1.4994e-01, 6.9202e-01, 5.6802e-01, 9.2369e-01,\n",
              "          5.1546e-01, 6.4665e-01, 1.0531e-02],\n",
              "         [9.7959e-01, 1.2022e-01, 8.7061e-01, 1.7341e-01, 6.0724e-01,\n",
              "          5.0575e-01, 8.7342e-01, 3.4456e-02, 9.1865e-01, 9.8495e-01,\n",
              "          6.4515e-01, 9.6207e-01, 9.0393e-01, 5.2435e-01, 7.8204e-01,\n",
              "          5.3437e-01, 6.2238e-01, 1.5297e-01, 3.6468e-01, 2.2783e-01,\n",
              "          2.0566e-01, 1.8151e-01, 2.8671e-01, 5.8721e-01, 4.8501e-01,\n",
              "          7.2504e-01, 7.1886e-01, 3.5959e-01],\n",
              "         [8.5268e-01, 1.5213e-01, 2.1675e-01, 9.8403e-01, 7.4081e-01,\n",
              "          7.4198e-01, 2.9415e-02, 8.6226e-01, 9.0569e-02, 5.7562e-01,\n",
              "          2.4820e-01, 6.8901e-01, 2.2142e-01, 7.1550e-02, 4.9545e-02,\n",
              "          1.1657e-01, 3.1294e-01, 5.1639e-01, 3.2346e-01, 3.3367e-01,\n",
              "          5.8728e-01, 9.2172e-01, 3.4622e-01, 9.0453e-01, 2.9382e-01,\n",
              "          8.9848e-01, 2.8157e-01, 2.5663e-01],\n",
              "         [3.6169e-01, 3.8648e-01, 1.8381e-01, 8.4107e-01, 7.9216e-02,\n",
              "          4.9276e-01, 2.3885e-02, 1.8761e-01, 5.6961e-01, 4.2421e-01,\n",
              "          4.0185e-01, 5.4540e-01, 3.5800e-01, 5.9382e-02, 4.8032e-01,\n",
              "          6.3983e-01, 8.5653e-01, 2.0226e-01, 1.5830e-01, 9.5095e-02,\n",
              "          7.2459e-01, 5.8111e-02, 8.9171e-01, 6.8507e-01, 8.4355e-01,\n",
              "          3.1818e-01, 8.1992e-01, 2.7627e-01],\n",
              "         [4.3853e-01, 8.8278e-01, 2.3415e-01, 3.7924e-01, 5.5598e-01,\n",
              "          6.6272e-01, 4.3043e-01, 1.0444e-01, 3.8136e-01, 6.9516e-01,\n",
              "          1.1067e-01, 8.6835e-02, 3.4663e-01, 6.0945e-01, 3.2236e-01,\n",
              "          6.6271e-01, 5.6876e-01, 8.7316e-01, 4.5176e-01, 2.2814e-01,\n",
              "          3.3170e-01, 1.1520e-01, 3.2023e-01, 2.5325e-01, 1.0115e-01,\n",
              "          2.6515e-02, 6.9138e-02, 7.2036e-01],\n",
              "         [2.9005e-01, 9.1815e-01, 2.8746e-01, 7.1822e-01, 1.9103e-01,\n",
              "          9.7768e-01, 6.1654e-01, 5.6612e-01, 6.4991e-01, 6.1821e-01,\n",
              "          3.0406e-01, 6.1946e-01, 2.0771e-01, 7.4240e-01, 9.7931e-01,\n",
              "          9.8322e-01, 3.9864e-01, 4.0215e-01, 9.4154e-01, 1.7416e-01,\n",
              "          6.5062e-01, 6.1105e-01, 9.5008e-01, 3.0621e-01, 9.0131e-01,\n",
              "          4.4274e-01, 9.8473e-01, 5.3531e-04],\n",
              "         [2.1219e-01, 3.9385e-01, 6.3869e-03, 4.5458e-01, 1.0301e-01,\n",
              "          8.1249e-01, 9.2473e-01, 4.6588e-01, 7.9211e-01, 7.4763e-01,\n",
              "          6.9895e-01, 5.6272e-01, 1.7314e-01, 5.5801e-02, 7.0024e-01,\n",
              "          1.6130e-01, 8.8534e-01, 6.0371e-01, 2.4687e-01, 2.8953e-01,\n",
              "          6.2200e-01, 4.8124e-01, 9.3776e-01, 3.0994e-01, 2.0526e-01,\n",
              "          4.3052e-02, 5.9349e-01, 1.2726e-01],\n",
              "         [4.4930e-01, 9.9154e-01, 2.7969e-01, 9.4251e-01, 8.0434e-01,\n",
              "          1.9352e-01, 7.6482e-01, 3.0222e-01, 7.6957e-01, 2.0786e-01,\n",
              "          6.3208e-01, 7.8122e-01, 8.6729e-01, 3.1404e-01, 7.9427e-01,\n",
              "          8.5780e-01, 3.7402e-01, 8.4916e-01, 3.9380e-01, 2.1521e-01,\n",
              "          6.7519e-01, 6.4023e-01, 4.5778e-02, 2.9364e-01, 3.7597e-01,\n",
              "          8.2892e-01, 4.6604e-01, 2.3571e-02],\n",
              "         [5.7932e-01, 6.3257e-01, 5.8220e-01, 9.0381e-01, 8.8397e-03,\n",
              "          5.5261e-01, 2.2565e-01, 2.7639e-01, 1.7919e-01, 3.8246e-01,\n",
              "          3.1166e-02, 3.5733e-02, 8.3724e-01, 8.0646e-01, 3.1256e-01,\n",
              "          3.3660e-01, 3.2195e-01, 6.2353e-01, 3.0135e-01, 7.0622e-01,\n",
              "          4.9875e-01, 6.2719e-01, 2.4892e-01, 2.5290e-01, 7.1448e-01,\n",
              "          8.8139e-01, 2.2892e-01, 7.6083e-01],\n",
              "         [4.6397e-01, 9.9302e-01, 2.8529e-01, 9.2473e-01, 7.0550e-01,\n",
              "          8.8585e-01, 4.9718e-01, 8.3885e-01, 5.0523e-01, 5.0753e-01,\n",
              "          4.1184e-01, 6.4315e-01, 9.8197e-01, 9.0041e-01, 2.2514e-01,\n",
              "          2.9155e-01, 7.7214e-01, 3.0980e-01, 3.4001e-01, 6.0656e-01,\n",
              "          2.1371e-01, 1.3811e-01, 9.0193e-01, 4.7638e-02, 1.9827e-01,\n",
              "          7.2583e-01, 4.2744e-01, 7.5082e-01]]])"
            ]
          },
          "metadata": {},
          "execution_count": 129
        }
      ]
    },
    {
      "cell_type": "code",
      "source": [
        "model_0(random_image_tensor.unsqueeze(dim=0))"
      ],
      "metadata": {
        "colab": {
          "base_uri": "https://localhost:8080/"
        },
        "id": "uYxHDk8MTNtb",
        "outputId": "d16247ba-1def-4be3-9e63-ce57136be65a"
      },
      "execution_count": null,
      "outputs": [
        {
          "output_type": "execute_result",
          "data": {
            "text/plain": [
              "tensor([[ 0.0138,  0.0421,  0.0605,  0.0085, -0.0453, -0.0366, -0.0247,  0.0738,\n",
              "         -0.0962, -0.0005]], grad_fn=<AddmmBackward0>)"
            ]
          },
          "metadata": {},
          "execution_count": 130
        }
      ]
    },
    {
      "cell_type": "code",
      "source": [
        "import requests\n",
        "from pathlib import Path\n",
        "if Path(\"helper_functions.py\").is_file():\n",
        "  print(\"File already exists\")\n",
        "else:\n",
        "  request = requests.get(\"https://raw.githubusercontent.com/mrdbourke/pytorch-deep-learning/refs/heads/main/helper_functions.py\")\n",
        "  print(\"file downloaded successfully\")\n",
        "  with open(\"helper_functions.py\",\"wb\") as f:\n",
        "    f.write(request.content)\n",
        "\n",
        "from helper_functions import accuracy_fn"
      ],
      "metadata": {
        "colab": {
          "base_uri": "https://localhost:8080/"
        },
        "id": "ZUmn4UjxW9Jj",
        "outputId": "82a7ac9c-148d-4f96-a741-4a12672e8c73"
      },
      "execution_count": null,
      "outputs": [
        {
          "output_type": "stream",
          "name": "stdout",
          "text": [
            "File already exists\n"
          ]
        }
      ]
    },
    {
      "cell_type": "code",
      "source": [
        "#making loss funcrion and optimizer\n",
        "loss_fn = nn.CrossEntropyLoss()\n",
        "optimizer = torch.optim.SGD(params =model_0.parameters(), lr =0.1)"
      ],
      "metadata": {
        "id": "SMAtAm_9TX8Q"
      },
      "execution_count": null,
      "outputs": []
    },
    {
      "cell_type": "code",
      "source": [
        "#Makinf a test function\n",
        "def train_fn(model:torch.nn.Module,\n",
        "            train_dataloader : torch.utils.data.DataLoader,\n",
        "             loss_fn:torch.nn.Module,\n",
        "             optimizer:torch.optim.Optimizer,\n",
        "             accuracy_fn,\n",
        "             device:torch.device = device):\n",
        "  train_loss, train_acc=0,0\n",
        "  model.train()\n",
        "  for batch,(X, y) in enumerate (train_dataloader):\n",
        "    X,y = X.to(device), y.to(device)\n",
        "    y_pred = model(X)\n",
        "    loss = loss_fn(y_pred, y)\n",
        "    train_loss+=loss\n",
        "    train_acc+=accuracy_fn(y_true=y, y_pred = y_pred.argmax(dim=1))\n",
        "\n",
        "    optimizer.zero_grad()\n",
        "\n",
        "    loss.backward()\n",
        "\n",
        "    optimizer.step()\n",
        "\n",
        "  train_loss/=len(train_dataloader)\n",
        "  train_acc/=len(train_dataloader)\n",
        "  print(f\"train_loss:{train_loss}, Train accuracy:{train_acc}\")\n"
      ],
      "metadata": {
        "id": "VsGkmmLpVvFx"
      },
      "execution_count": null,
      "outputs": []
    },
    {
      "cell_type": "code",
      "source": [
        "def test_fn(model:torch.nn.Module,\n",
        "            test_dataloader:torch.utils.data.DataLoader,\n",
        "            loss_fn:torch.nn.Module,\n",
        "            accuracy_fn,\n",
        "            device : torch.device= device):\n",
        "  test_loss , test_acc =0,0\n",
        "  model.eval()\n",
        "  with torch.inference_mode():\n",
        "   for X,y in test_dataloader:\n",
        "    X, y = X.to(device), y.to(device)\n",
        "    test_pred = model(X)\n",
        "    loss=loss_fn(test_pred, y)\n",
        "    test_loss +=loss\n",
        "    test_acc+=accuracy_fn(y_true=y, y_pred= test_pred.argmax(dim=1))\n",
        "\n",
        "   test_loss/=len(test_dataloader)\n",
        "   test_acc/=len(test_dataloader)\n",
        "   print(f\"Test loss:{test_loss}, Test acuracy:{test_acc}\")"
      ],
      "metadata": {
        "id": "dJlrbhJGbJsO"
      },
      "execution_count": null,
      "outputs": []
    },
    {
      "cell_type": "code",
      "source": [
        "\n",
        "torch.manual_seed(42)\n",
        "def eval_model ( model:torch.nn.Module,\n",
        "                data_loader : torch.utils.data.DataLoader,\n",
        "                 loss_fn : torch.nn.Module,\n",
        "                 accuracy_fn):\n",
        "  loss, acc = 0,0\n",
        "  model.eval()\n",
        "  with torch.inference_mode():\n",
        "    for X,y in data_loader:\n",
        "     # make_predictions\n",
        "      y_pred  = model(X)\n",
        "\n",
        "      loss+=loss_fn(y_pred, y)\n",
        "      acc+=accuracy_fn(y_true = y, y_pred = y_pred.argmax(dim = 1))\n",
        "\n",
        "    loss/=len(data_loader)\n",
        "    acc/= len(data_loader)\n",
        "\n",
        "  return {\"model_name\": model.__class__.__name__,\n",
        "          \"model_loss\":loss.item(),\n",
        "          \"model_Acc\":acc}"
      ],
      "metadata": {
        "id": "m69vr6rfcqnv"
      },
      "execution_count": null,
      "outputs": []
    },
    {
      "cell_type": "code",
      "source": [
        "torch.manual_seed(42)\n",
        "torch.cuda.manual_seed(42)\n",
        "\n",
        "epochs =3\n",
        "for epoch in range(epochs):\n",
        "  print(f\"Epoch:{epoch}\")\n",
        "  train_fn(model=model_0,\n",
        "            train_dataloader = train_dataloader,\n",
        "            loss_fn= loss_fn,\n",
        "           optimizer = optimizer,\n",
        "           accuracy_fn=accuracy_fn,\n",
        "           device = device)\n",
        "  test_fn(model= model_0,\n",
        "          test_dataloader = test_dataloader,\n",
        "          loss_fn= loss_fn,\n",
        "          accuracy_fn = accuracy_fn,\n",
        "          device=device)"
      ],
      "metadata": {
        "colab": {
          "base_uri": "https://localhost:8080/"
        },
        "id": "uiKOM2njdbq4",
        "outputId": "9570e5dc-2e60-4814-b764-33e05f07762e"
      },
      "execution_count": null,
      "outputs": [
        {
          "output_type": "stream",
          "name": "stdout",
          "text": [
            "Epoch:0\n",
            "train_loss:0.22334156930446625, Train accuracy:93.22\n",
            "Test loss:0.07370157539844513, Test acuracy:97.81349840255591\n",
            "Epoch:1\n",
            "train_loss:0.0772743821144104, Train accuracy:97.59166666666667\n",
            "Test loss:0.057189662009477615, Test acuracy:98.26277955271566\n",
            "Epoch:2\n",
            "train_loss:0.057372309267520905, Train accuracy:98.24666666666667\n",
            "Test loss:0.05386114865541458, Test acuracy:98.22284345047923\n"
          ]
        }
      ]
    },
    {
      "cell_type": "code",
      "source": [
        " #Create a convulational neural network\n",
        "class MNIST2(nn.Module):\n",
        "  \"\"\"\n",
        "  Model architecture that replicates the TinyVGG\n",
        "  model from CNN expliner website\n",
        "\n",
        "  \"\"\"\n",
        "  def __init__(self,  input_shape=int,hidden_units =int, output_shape=int):\n",
        "    super().__init__()\n",
        "    self.conv_block_1 = nn.Sequential(\n",
        "        nn.Conv2d(in_channels = input_shape,\n",
        "                  out_channels = hidden_units,\n",
        "                  kernel_size=3,\n",
        "                  stride = 1,\n",
        "                  padding = 1),\n",
        "        nn.ReLU(),\n",
        "        nn.Conv2d(in_channels = hidden_units,\n",
        "                  out_channels = hidden_units,\n",
        "                  kernel_size = 3,\n",
        "                  stride = 1,\n",
        "                  padding = 1\n",
        "                  ),\n",
        "        nn.ReLU(),\n",
        "        nn.MaxPool2d(kernel_size =2)\n",
        "    )\n",
        "    self.conv2_block_2 = nn.Sequential(\n",
        "        nn.Conv2d(in_channels = hidden_units,\n",
        "                  out_channels= hidden_units,\n",
        "                  kernel_size = 3,\n",
        "                  stride = 1,\n",
        "                  padding = 1),\n",
        "        nn.ReLU(),\n",
        "        nn.Conv2d(in_channels = hidden_units,\n",
        "                  out_channels = hidden_units,\n",
        "                  kernel_size = 3,\n",
        "                  stride = 1,\n",
        "                  padding = 1),\n",
        "        nn.ReLU(),\n",
        "        nn.MaxPool2d(kernel_size = 2)\n",
        "    )\n",
        "    self.classifier = nn.Sequential(\n",
        "        nn.Flatten(),\n",
        "        nn.Linear(in_features =hidden_units*7*7,\n",
        "                  out_features = output_shape)\n",
        "    )\n",
        "  def forward(self, x):\n",
        "     x = self.conv_block_1(x)\n",
        "     # print(x.shape)\n",
        "     x = self.conv2_block_2(x)\n",
        "     # print(x.shape)\n",
        "     x = self.classifier(x)\n",
        "     return x"
      ],
      "metadata": {
        "id": "S3z8SbK9oiyx"
      },
      "execution_count": null,
      "outputs": []
    },
    {
      "cell_type": "code",
      "source": [
        "torch.manual_seed(42)\n",
        "model_1= MNIST2(input_shape=1, hidden_units= 10, output_shape=len(class_names)).to(device)"
      ],
      "metadata": {
        "id": "kGsiuVVfolYB"
      },
      "execution_count": null,
      "outputs": []
    },
    {
      "cell_type": "code",
      "source": [
        "def train_step(model : torch.nn.Module,\n",
        "    data_loader : torch.utils.data.DataLoader,\n",
        "    loss_fn : torch.nn.Module,\n",
        "    optimizer:torch.optim.Optimizer,\n",
        "    accuracy_fn,\n",
        "    device:torch.device= device):\n",
        "  train_loss, train_acc = 0,0\n",
        "  model.train()\n",
        "  for batch, (X,y) in enumerate (data_loader):\n",
        "    X, y = X.to(device), y.to(device)\n",
        "    y_pred = model(X)\n",
        "\n",
        "    loss = loss_fn(y_pred, y)\n",
        "    train_loss += loss #accumulate train loss\n",
        "    train_acc+=accuracy_fn(y_true = y, y_pred = y_pred.argmax(dim =1))\n",
        "\n",
        "    optimizer.zero_grad()\n",
        "\n",
        "    loss.backward()\n",
        "\n",
        "    optimizer.step()\n",
        "\n",
        "\n",
        "\n",
        "  train_loss /= len(data_loader)\n",
        "  train_acc /= len(data_loader)\n",
        "  print(f\"Train loss:{train_loss}, Train accuracy:{train_acc}\")\n",
        "\n",
        "\n",
        "\n",
        "\n"
      ],
      "metadata": {
        "id": "vofj5752eqi-"
      },
      "execution_count": null,
      "outputs": []
    },
    {
      "cell_type": "code",
      "source": [
        "def test_step(model:nn.Module,\n",
        "               data_loader :torch.utils.data.DataLoader,\n",
        "               loss_fn:torch.nn.Module,\n",
        "               accuracy_fn,\n",
        "               device: torch.device=device):\n",
        "   test_loss, test_acc = 0,0\n",
        "   model.eval()\n",
        "   with torch.inference_mode():\n",
        "     for X,y in data_loader:\n",
        "      X, y = X.to(device), y.to(device)\n",
        "     # make_predictions\n",
        "      test_pred  = model(X)\n",
        "\n",
        "      test_loss+=loss_fn(test_pred, y)\n",
        "      test_acc+=accuracy_fn(y_true = y, y_pred = test_pred.argmax(dim = 1))\n",
        "\n",
        "     test_loss/=len(data_loader)\n",
        "     test_acc/= len(data_loader)\n",
        "     print(f\"Train loss:{test_loss}, Train accuracy:{test_acc}\")\n",
        "\n"
      ],
      "metadata": {
        "id": "oF0YQE6CneuV"
      },
      "execution_count": null,
      "outputs": []
    },
    {
      "cell_type": "code",
      "source": [
        "torch.manual_seed(42)\n",
        "\n",
        "\n",
        "\n",
        "epochs = 3\n",
        "\n",
        "for epoch in range(epochs):\n",
        "  print(f\"Epoch:{epoch}\")\n",
        "\n",
        "  train_step(model = model_1,\n",
        "    data_loader =train_dataloader,\n",
        "    loss_fn= loss_fn,\n",
        "    optimizer=optimizer,\n",
        "    accuracy_fn= accuracy_fn,\n",
        "    device= device\n",
        "  )\n",
        "  test_step(model=model_1,\n",
        "            data_loader= test_dataloader,\n",
        "            loss_fn = loss_fn,\n",
        "            accuracy_fn = accuracy_fn,\n",
        "            device= device\n",
        "            )\n",
        "\n"
      ],
      "metadata": {
        "colab": {
          "base_uri": "https://localhost:8080/"
        },
        "id": "32g7UbZ3nlFa",
        "outputId": "7b741d4e-b549-4d6a-e800-26b56018b8e3"
      },
      "execution_count": null,
      "outputs": [
        {
          "output_type": "stream",
          "name": "stdout",
          "text": [
            "Epoch:0\n",
            "Train loss:2.3035616874694824, Train accuracy:9.923333333333334\n",
            "Train loss:2.303373098373413, Train accuracy:10.313498402555911\n",
            "Epoch:1\n",
            "Train loss:2.303558349609375, Train accuracy:9.923333333333334\n",
            "Train loss:2.303373098373413, Train accuracy:10.313498402555911\n",
            "Epoch:2\n",
            "Train loss:2.303557872772217, Train accuracy:9.923333333333334\n",
            "Train loss:2.303373098373413, Train accuracy:10.313498402555911\n"
          ]
        }
      ]
    },
    {
      "cell_type": "code",
      "source": [
        "def make_predictions(model:nn.Module,\n",
        "                     data:list,\n",
        "                     device:torch.device=device):\n",
        "  pred_probs = []\n",
        "  model.to(device)\n",
        "\n",
        "  model.eval()\n",
        "  with torch.inference_mode():\n",
        "    for sample in data:\n",
        "      sample=torch.unsqueeze(sample,dim=0).to(device)\n",
        "      pred_logit=model(sample)\n",
        "      pred_prob = torch.softmax(pred_logit.squeeze(),dim=0)\n",
        "      pred_probs.append(pred_prob.cpu())\n",
        "\n",
        "\n",
        "  return torch.stack(pred_probs)\n"
      ],
      "metadata": {
        "id": "yv605Eynn1XZ"
      },
      "execution_count": null,
      "outputs": []
    },
    {
      "cell_type": "code",
      "source": [
        "import random\n",
        "random.seed(42)\n",
        "test_samples=[]\n",
        "test_labels=[]\n",
        "for sample , label in random.sample(list(test_data), k =9):\n",
        "  test_samples.append(sample)\n",
        "  test_labels.append(label)\n",
        "\n",
        "pred_probs = make_predictions(model=model_0,\n",
        "                              data=test_samples)"
      ],
      "metadata": {
        "id": "VkxxANNmwYqz"
      },
      "execution_count": null,
      "outputs": []
    },
    {
      "cell_type": "code",
      "source": [
        "pred_labels = torch.argmax(pred_probs, dim =1)\n",
        "pred_labels"
      ],
      "metadata": {
        "colab": {
          "base_uri": "https://localhost:8080/"
        },
        "id": "11nvdRElwbPY",
        "outputId": "e828369f-3734-4de1-f75e-1464251f0843"
      },
      "execution_count": null,
      "outputs": [
        {
          "output_type": "execute_result",
          "data": {
            "text/plain": [
              "tensor([2, 1, 2, 4, 6, 6, 4, 9, 1])"
            ]
          },
          "metadata": {},
          "execution_count": 144
        }
      ]
    },
    {
      "cell_type": "code",
      "source": [
        "test_labels\n"
      ],
      "metadata": {
        "colab": {
          "base_uri": "https://localhost:8080/"
        },
        "id": "JFEA0IQcwdXY",
        "outputId": "38d6ce5f-7f75-4904-b77c-48cee4120b07"
      },
      "execution_count": null,
      "outputs": [
        {
          "output_type": "execute_result",
          "data": {
            "text/plain": [
              "[2, 1, 2, 4, 6, 6, 4, 9, 1]"
            ]
          },
          "metadata": {},
          "execution_count": 145
        }
      ]
    },
    {
      "cell_type": "code",
      "source": [
        "plt.figure(figsize=(9,9))\n",
        "nrows = 3\n",
        "ncols = 3\n",
        "for i,sample in enumerate(test_samples):\n",
        "  plt.subplot(nrows,ncols,i+1)\n",
        "  plt.imshow(sample.squeeze(), cmap=\"gray\")\n",
        "  pred_label = class_names[pred_labels[i]]\n",
        "  truth_label = class_names[test_labels[i]]\n",
        "  title_text = f\"Prediction:{pred_label} | Truth :{truth_label}\"\n",
        "  if pred_label==truth_label:\n",
        "    plt.title(title_text,c=\"g\")\n",
        "  else:\n",
        "    plt.title(title_text,c=\"r\")\n"
      ],
      "metadata": {
        "colab": {
          "base_uri": "https://localhost:8080/",
          "height": 796
        },
        "id": "T2_hvqjOws1s",
        "outputId": "553a8893-f214-4e3c-f027-402cf2c208ff"
      },
      "execution_count": null,
      "outputs": [
        {
          "output_type": "display_data",
          "data": {
            "text/plain": [
              "<Figure size 900x900 with 9 Axes>"
            ],
            "image/png": "[encoded data removed]"
          },
          "metadata": {}
        }
      ]
    },
    {
      "cell_type": "code",
      "source": [],
      "metadata": {
        "id": "c41ZcNZzyXNn"
      },
      "execution_count": null,
      "outputs": []
    }
  ]
}